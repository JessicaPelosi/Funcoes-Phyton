{
  "nbformat": 4,
  "nbformat_minor": 0,
  "metadata": {
    "colab": {
      "provenance": [],
      "collapsed_sections": [],
      "include_colab_link": true
    },
    "kernelspec": {
      "name": "python3",
      "display_name": "Python 3"
    }
  },
  "cells": [
    {
      "cell_type": "markdown",
      "metadata": {
        "id": "view-in-github",
        "colab_type": "text"
      },
      "source": [
        "<a href=\"https://colab.research.google.com/github/JessicaPelosi/Funcoes-Phyton/blob/main/sem_retorno_com_parametro.ipynb\" target=\"_parent\"><img src=\"https://colab.research.google.com/assets/colab-badge.svg\" alt=\"Open In Colab\"/></a>"
      ]
    },
    {
      "cell_type": "markdown",
      "metadata": {
        "id": "skN-Wz61xZzi"
      },
      "source": [
        "### 1. (Função sem retorno com parâmetro) Faça um programa contendo uma função/método que leia um número e o multiplique por 2, apresente o resultado. Este é um exemplo de PASSAGEM DE PARÂMETRO POR VALOR. "
      ]
    },
    {
      "cell_type": "code",
      "metadata": {
        "id": "Wbjafj_QxWP-",
        "colab": {
          "base_uri": "https://localhost:8080/"
        },
        "outputId": "b1e03566-31bb-4c5d-d128-b3f7a20d0bf2"
      },
      "source": [
        "def multiplicar(num):# a variável num é nomeada como parâmetro na DEFINIÇÃO\n",
        "# DA FUNÇÃO, ocorre num = numero, implicitamente, ou seja, o valor de numero é\n",
        "# COPIADO/ATRIBUÍDO na num, isto é chamado de passagem de parâmetro por valor\n",
        "    r = num * 2\n",
        "    print('O resultado da multiplicação é',r)\n",
        "\n",
        "def main():\n",
        "    chuchu = int(input('Digite um número: '))\n",
        "    multiplicar(chuchu) # a variável numero nomeada como argumento NA CHAMADA DA FUNÇÃO\n",
        "\n",
        "main()    "
      ],
      "execution_count": null,
      "outputs": [
        {
          "output_type": "stream",
          "name": "stdout",
          "text": [
            "Digite um número: 9\n",
            "O resultado da multiplicação é 18\n"
          ]
        }
      ]
    },
    {
      "cell_type": "markdown",
      "source": [
        "###2. (Função sem retorno com parâmetro) Faça um programa contendo uma função/método, sem parâmetro, que leia um nome e diga 'Olá nome, tudo bem?'. Crie outra função com o parâmetro nome, para que a mesma receba da main o nome digitado e apresente a mesma frase, este é um exemplo de PASSAGEM DE PARÂMETRO POR VALOR. "
      ],
      "metadata": {
        "id": "wEJHqPgPNiyD"
      }
    },
    {
      "cell_type": "code",
      "metadata": {
        "id": "K02Kf9ja9K4d",
        "colab": {
          "base_uri": "https://localhost:8080/"
        },
        "outputId": "15d2aa55-8aca-4b09-b7d9-cc7b61dfae42"
      },
      "source": [
        "def apresentar_nome():\n",
        "    nome = input(\"Digite seu nome: \")\n",
        "    print(\"Olá\",nome,\", tudo bem?\")\n",
        "\n",
        "def apresentar_nome1(nome2):\n",
        "    print(\"Olá\",nome2,\", tudo bem?\")\n",
        "\n",
        "def main():\n",
        "    apresentar_nome()\n",
        "    n2 = input(\"Digite seu nome: \")\n",
        "    apresentar_nome1(n2)\n",
        "\n",
        "main()    "
      ],
      "execution_count": null,
      "outputs": [
        {
          "output_type": "stream",
          "name": "stdout",
          "text": [
            "Digite seu nome: Jé\n",
            "Olá Jé , tudo bem?\n",
            "Digite seu nome: Jess\n",
            "Olá Jess , tudo bem?\n"
          ]
        }
      ]
    },
    {
      "cell_type": "markdown",
      "metadata": {
        "id": "0jPoba3-yLnG"
      },
      "source": [
        "### 3. (Função sem retorno com parâmetro) Faça um programa contendo uma função/método para subtrair dois números e apresentar o resultado. Aqui deverá ocorrer, PASSAGEM DE PARÂMETRO POR VALOR. "
      ]
    },
    {
      "cell_type": "code",
      "metadata": {
        "id": "UHD2oMlJyLzc",
        "colab": {
          "base_uri": "https://localhost:8080/"
        },
        "outputId": "0e4feadf-96f7-41ce-ca45-5a2295cb2a93"
      },
      "source": [
        "def subtrair(num1, num2):\n",
        "    s = num1 - num2\n",
        "    print(\"O resultado da subtração é\",s)\n",
        "    \n",
        "def main():\n",
        "    numero1 = int(input(\"Insira um número: \"))\n",
        "    numero2 = int(input(\"Insira outro número: \"))\n",
        "    subtrair(numero1, numero2)\n",
        "\n",
        "main()    "
      ],
      "execution_count": null,
      "outputs": [
        {
          "output_type": "stream",
          "name": "stdout",
          "text": [
            "Insira um número: 6\n",
            "Insira outro número: 10\n",
            "O resultado da subtração é -4\n"
          ]
        }
      ]
    },
    {
      "cell_type": "markdown",
      "metadata": {
        "id": "_aPd4c1b3OjS"
      },
      "source": [
        "### 4. (Função sem retorno com parâmetro) Faça uma função/método para a partir de um preço de um produto informado, calcular e apresentar o novo preço reajustado em 9%. Aqui deverá ocorrer, PASSAGEM DE PARÂMETRO POR VALOR. "
      ]
    },
    {
      "cell_type": "code",
      "metadata": {
        "id": "Cg-NIjInzfmU",
        "colab": {
          "base_uri": "https://localhost:8080/"
        },
        "outputId": "20c1583e-2d6f-4bab-a9ae-47e7dc60b39b"
      },
      "source": [
        "def valor(reajuste):\n",
        "    r = reajuste + reajuste * (9 / 100)\n",
        "    print(\"O preço reajustado é R$\",r)\n",
        "\n",
        "def main():\n",
        "    preco = float(input(\"Insira o preço do produto: \"))\n",
        "    valor(preco)\n",
        "\n",
        "main()"
      ],
      "execution_count": null,
      "outputs": [
        {
          "output_type": "stream",
          "name": "stdout",
          "text": [
            "Insira o preço do produto: 100\n",
            "O preço reajustado é R$ 109.0\n"
          ]
        }
      ]
    },
    {
      "cell_type": "markdown",
      "metadata": {
        "id": "JgYwP3n1CQ_U"
      },
      "source": [
        "### 5. (Função sem retorno com parâmetro) Faça uma função/método para a partir de um preço de um produto informado, calcular e apresentar o novo preço reajustado em alguma porcentagem que deve ser informada (digitada) pelo usuário. Aqui deverá ocorrer, PASSAGEM DE PARÂMETRO POR VALOR. "
      ]
    },
    {
      "cell_type": "code",
      "metadata": {
        "id": "Q6LPIy_LCQuO",
        "colab": {
          "base_uri": "https://localhost:8080/"
        },
        "outputId": "3d4a8752-722d-4b03-845a-8a87c1211fe9"
      },
      "source": [
        "def valor(reajuste, percent):\n",
        "    r = reajuste + reajuste * (percent / 100)\n",
        "    print(\"O preço reajustado é R$\",r)\n",
        "\n",
        "def main():\n",
        "    preco = float(input(\"Insira o preço do produto: \"))\n",
        "    porcentagem = float(input(\"Insira a porcentagem do reajuste: \"))\n",
        "    valor(preco, porcentagem)\n",
        "\n",
        "main()"
      ],
      "execution_count": null,
      "outputs": [
        {
          "output_type": "stream",
          "name": "stdout",
          "text": [
            "Insira o preço do produto: 100\n",
            "Insira a porcentagem do reajuste: 9\n",
            "O preço reajustado é R$ 109.0\n"
          ]
        }
      ]
    },
    {
      "cell_type": "markdown",
      "metadata": {
        "id": "fZNXRUrrh_g9"
      },
      "source": [
        "### 6. (Função sem retorno com parâmetro) Faça uma função/método para a partir de um valor inicial e um valor final realizar o acumulo desse valores e apresentar o resultado. Não use vetor. Aqui deverá ocorrer para as duas variáveis, PASSAGEM DE PARÂMETRO POR VALOR. \n",
        "    Exemplo:\n",
        "        a = 2\n",
        "        b = 8\n",
        "        // 2 + 3 + 4 + 5 + 6 + 7 + 8 = 35\n",
        "        r = 35"
      ]
    },
    {
      "cell_type": "code",
      "metadata": {
        "id": "fb6TwQ_yh_To",
        "colab": {
          "base_uri": "https://localhost:8080/"
        },
        "outputId": "5f013208-66b0-4d90-9a15-ae07fe2d0735"
      },
      "source": [
        "def soma(inicio, fim):\n",
        "    soma = 0\n",
        "    for i in range(inicio, fim+1):\n",
        "        soma = soma + i\n",
        "    print(\"O resultado do acumulo dos valores é\",soma)\n",
        "\n",
        "def main():\n",
        "    inicial = int(input(\"Insira o número inicial: \"))\n",
        "    final = int(input(\"Insira o número final: \"))\n",
        "    soma(inicial, final)\n",
        "\n",
        "main()"
      ],
      "execution_count": null,
      "outputs": [
        {
          "output_type": "stream",
          "name": "stdout",
          "text": [
            "Insira o número inicial: 2\n",
            "Insira o número final: 8\n",
            "O resultado do acumulo dos valores é 35\n"
          ]
        }
      ]
    },
    {
      "cell_type": "markdown",
      "metadata": {
        "id": "Go_7xqNQq2oY"
      },
      "source": [
        "### 7. (Função sem retorno com parâmetro) Faça uma função/método para calcular a tabuada de um número informado pelo usuário. Crie outra função que calcule a tabuada de um intervalo, por exemplo realize as taduabas do 3 ao 8. Aqui deverá ocorrer para as duas funções, PASSAGEM DE PARÂMETRO POR VALOR. "
      ]
    },
    {
      "cell_type": "code",
      "metadata": {
        "id": "qA3MK3i1lJ-B",
        "colab": {
          "base_uri": "https://localhost:8080/"
        },
        "outputId": "07bd9554-d467-4545-aeb8-70abdbe9bd5b"
      },
      "source": [
        "def calcular_tabuada(numero):\n",
        "    for n in range(1,11):\n",
        "        print(numero, \"x\", n, \"=\", numero * n)\n",
        "\n",
        "def intervalo(inicio, fim):\n",
        "    for n in range(inicio, fim+1):\n",
        "        calcular_tabuada(n)\n",
        "        print()\n",
        "\n",
        "def main():\n",
        "    x = int(input(\"Insira o número: \"))\n",
        "    calcular_tabuada(x)\n",
        "    a = int(input(\"Informe a primeira tabuada:\"))\n",
        "    b = int(input(\"Informe a última tabuada:\"))\n",
        "    intervalo(a, b)\n",
        "\n",
        "main()"
      ],
      "execution_count": null,
      "outputs": [
        {
          "output_type": "stream",
          "name": "stdout",
          "text": [
            "Insira o número: 9\n",
            "9 x 1 = 9\n",
            "9 x 2 = 18\n",
            "9 x 3 = 27\n",
            "9 x 4 = 36\n",
            "9 x 5 = 45\n",
            "9 x 6 = 54\n",
            "9 x 7 = 63\n",
            "9 x 8 = 72\n",
            "9 x 9 = 81\n",
            "9 x 10 = 90\n",
            "Informe a primeira tabuada:3\n",
            "Informe a última tabuada:8\n",
            "3 x 1 = 3\n",
            "3 x 2 = 6\n",
            "3 x 3 = 9\n",
            "3 x 4 = 12\n",
            "3 x 5 = 15\n",
            "3 x 6 = 18\n",
            "3 x 7 = 21\n",
            "3 x 8 = 24\n",
            "3 x 9 = 27\n",
            "3 x 10 = 30\n",
            "\n",
            "4 x 1 = 4\n",
            "4 x 2 = 8\n",
            "4 x 3 = 12\n",
            "4 x 4 = 16\n",
            "4 x 5 = 20\n",
            "4 x 6 = 24\n",
            "4 x 7 = 28\n",
            "4 x 8 = 32\n",
            "4 x 9 = 36\n",
            "4 x 10 = 40\n",
            "\n",
            "5 x 1 = 5\n",
            "5 x 2 = 10\n",
            "5 x 3 = 15\n",
            "5 x 4 = 20\n",
            "5 x 5 = 25\n",
            "5 x 6 = 30\n",
            "5 x 7 = 35\n",
            "5 x 8 = 40\n",
            "5 x 9 = 45\n",
            "5 x 10 = 50\n",
            "\n",
            "6 x 1 = 6\n",
            "6 x 2 = 12\n",
            "6 x 3 = 18\n",
            "6 x 4 = 24\n",
            "6 x 5 = 30\n",
            "6 x 6 = 36\n",
            "6 x 7 = 42\n",
            "6 x 8 = 48\n",
            "6 x 9 = 54\n",
            "6 x 10 = 60\n",
            "\n",
            "7 x 1 = 7\n",
            "7 x 2 = 14\n",
            "7 x 3 = 21\n",
            "7 x 4 = 28\n",
            "7 x 5 = 35\n",
            "7 x 6 = 42\n",
            "7 x 7 = 49\n",
            "7 x 8 = 56\n",
            "7 x 9 = 63\n",
            "7 x 10 = 70\n",
            "\n",
            "8 x 1 = 8\n",
            "8 x 2 = 16\n",
            "8 x 3 = 24\n",
            "8 x 4 = 32\n",
            "8 x 5 = 40\n",
            "8 x 6 = 48\n",
            "8 x 7 = 56\n",
            "8 x 8 = 64\n",
            "8 x 9 = 72\n",
            "8 x 10 = 80\n",
            "\n"
          ]
        }
      ]
    },
    {
      "cell_type": "markdown",
      "metadata": {
        "id": "HAz_eYfhzg06"
      },
      "source": [
        "### 8. (Função sem retorno com parâmetro) Faça uma função/método que calcule a média de um aluno que realizou duas provas (P1 e P2), a partir desta média, chame/crie OUTRA função que verifique se esta média aprova ou reprova o aluno. Aqui deverá ocorrer nas duas funções, PASSAGEM DE PARÂMETRO POR VALOR. \n"
      ]
    },
    {
      "cell_type": "code",
      "metadata": {
        "id": "73QPAAO0q2Wo",
        "colab": {
          "base_uri": "https://localhost:8080/"
        },
        "outputId": "a4801b26-eac9-4464-9593-d481ea639ce5"
      },
      "source": [
        "def media(pro1, pro2):\n",
        "    m = (pro1 + pro2) / 2\n",
        "    print(\"A média das provas é\",m)\n",
        "    passar(m)\n",
        "\n",
        "def passar(m): \n",
        "    if m >= 6:\n",
        "        print(\"Aluno aprovado.\")\n",
        "    else:\n",
        "        print(\"Aluno reprovado.\")\n",
        "    \n",
        "def main():\n",
        "    p1 = float(input(\"Insira a nota da primeira prova: \"))\n",
        "    p2 = float(input(\"Insira a nota da segunda prova: \"))\n",
        "    media(p1, p2)\n",
        "\n",
        "main()"
      ],
      "execution_count": null,
      "outputs": [
        {
          "output_type": "stream",
          "name": "stdout",
          "text": [
            "Insira a nota da primeira prova: 10\n",
            "Insira a nota da segunda prova: 10\n",
            "A média das provas é 10.0\n",
            "Aluno aprovado.\n"
          ]
        }
      ]
    },
    {
      "cell_type": "markdown",
      "metadata": {
        "id": "qC3ghcOalLBi"
      },
      "source": [
        "### 9. (Função sem retorno com parâmetro) Faça uma função/método sem parâmetro, para ler um valor e chamar/criar OUTRA função (com parâmetro) que mostre se o valor é par ou ímpar."
      ]
    },
    {
      "cell_type": "code",
      "metadata": {
        "id": "BgfVTL9-0WQi",
        "colab": {
          "base_uri": "https://localhost:8080/"
        },
        "outputId": "ddc0f370-4a04-4d02-b7dd-3135affbe512"
      },
      "source": [
        "def numero(num):\n",
        "    if num % 2 == 0:\n",
        "        print(\"É par\")\n",
        "    else:\n",
        "        print(\"É ímpar\")\n",
        "\n",
        "def ler():\n",
        "     valor = float(input(\"Insira um valor: \"))\n",
        "     numero(valor)\n",
        "\n",
        "def main():\n",
        "    ler()\n",
        "    \n",
        "main()"
      ],
      "execution_count": null,
      "outputs": [
        {
          "output_type": "stream",
          "name": "stdout",
          "text": [
            "Insira um valor: 12\n",
            "É par\n"
          ]
        }
      ]
    },
    {
      "cell_type": "markdown",
      "metadata": {
        "id": "IGOQmdAe0myM"
      },
      "source": [
        "### 10. (Função sem retorno com parâmetro) Faça uma função/método para verificar se um nome digitado é igual a ‘Ana’, mostre o valor True ou False como resposta. Aqui deverá ocorrer, PASSAGEM DE PARÂMETRO POR VALOR. "
      ]
    },
    {
      "cell_type": "code",
      "metadata": {
        "id": "A4-CekXy0vrz",
        "colab": {
          "base_uri": "https://localhost:8080/"
        },
        "outputId": "915f4717-bcca-481e-a123-3a060d7d9ed4"
      },
      "source": [
        "def nome(nom):\n",
        "    if nom == \"Ana\":\n",
        "        print(True)\n",
        "    else:\n",
        "        print(False)\n",
        "\n",
        "def main():\n",
        "    nome1 = input(\"Insira um nome: \")\n",
        "    nome(nome1)\n",
        "\n",
        "main()"
      ],
      "execution_count": null,
      "outputs": [
        {
          "output_type": "stream",
          "name": "stdout",
          "text": [
            "Insira um nome: Je\n",
            "False\n"
          ]
        }
      ]
    },
    {
      "cell_type": "markdown",
      "metadata": {
        "id": "W2PqWZm20v6M"
      },
      "source": [
        "### 11. (Função sem retorno com parâmetro) Faça uma função/método para verificar e contar quantas letras **a** tem numa frase. Não use NENHUMA função pronta da linguagem Python. Aqui deverá ocorrer, PASSAGEM DE PARÂMETRO POR VALOR. "
      ]
    },
    {
      "cell_type": "code",
      "metadata": {
        "id": "U9eTKxuz1c7S",
        "colab": {
          "base_uri": "https://localhost:8080/"
        },
        "outputId": "3875d30f-1eb5-417d-8fbb-a96da1718bd3"
      },
      "source": [
        "def contar_a(letra):\n",
        "    soma = 0\n",
        "    for i in range(len(letra)):\n",
        "        if letra[i] == \"A\" or letra[i] == \"a\" or letra[i] == \"á\":\n",
        "            soma = soma + 1\n",
        "    print(\"A quantidade de A na frase é\",soma)\n",
        "\n",
        "def main():\n",
        "    frase = input(\"Insira uma frase: \")\n",
        "    contar_a(frase)\n",
        "\n",
        "main()"
      ],
      "execution_count": null,
      "outputs": [
        {
          "output_type": "stream",
          "name": "stdout",
          "text": [
            "Insira uma frase: O dia está ensolarado.\n",
            "A quantidade de A na frase é 4\n"
          ]
        }
      ]
    },
    {
      "cell_type": "markdown",
      "source": [
        "###12. Faça uma função/método para verificar uma senha, contando/apresentando quantos dígitos numéricos e quantas letras existem. Aqui deverá ocorrer, PASSAGEM DE PARÂMETRO POR VALOR. "
      ],
      "metadata": {
        "id": "wIYQpV6Mb25T"
      }
    },
    {
      "cell_type": "code",
      "source": [
        "def contando_digitos(digito):\n",
        "    soma_letra = 0\n",
        "    soma_numero = 0\n",
        "    for i in range(len(digito)):\n",
        "        if digito[i].isalpha() == True:\n",
        "            soma_letra= soma_letra + 1\n",
        "        elif digito[i].isdecimal() == True:\n",
        "            soma_numero = soma_numero + 1\n",
        "    print(\"A quantidade de letras da senha é\",soma_letra,\"e a quantidade de números é\",soma_numero)\n",
        "\n",
        "def main():\n",
        "    senha = input(\"Insira uma senha: \")\n",
        "    contando_digitos(senha)\n",
        "\n",
        "main()"
      ],
      "metadata": {
        "id": "xIeP1_WUgUqr",
        "colab": {
          "base_uri": "https://localhost:8080/"
        },
        "outputId": "2d7be773-efd7-4299-8e87-d8f2b32710bc"
      },
      "execution_count": null,
      "outputs": [
        {
          "output_type": "stream",
          "name": "stdout",
          "text": [
            "Insira uma senha: jessica123\n",
            "A quantidade de letras da senha é 7 e a quantidade de números é 3\n"
          ]
        }
      ]
    },
    {
      "cell_type": "markdown",
      "source": [
        "###13. Uma senha deve ser criada a partir da seguinte regra:\n",
        "*   Dois primeiros números\n",
        "*   Um caracter especial\n",
        "*   Cinco letras\n",
        "\n",
        "### Faça uma função/método para verificar esta senha esta correta ou não, use FATIAMENTO DE STR Aqui deverá ocorrer, PASSAGEM DE PARÂMETRO POR VALOR. "
      ],
      "metadata": {
        "id": "WGOqpxQagVBT"
      }
    },
    {
      "cell_type": "code",
      "source": [
        "def senha_correta(digito):\n",
        "    if digito[0:2].isdecimal():\n",
        "        print(\"Está correto\")\n",
        "    else:\n",
        "        print(\"Está incorreto, digite dois números.\")\n",
        "        if not digito[2].isdecimal() and not digito[2].isalpha():\n",
        "            print(\"Está correto.\")\n",
        "        else:\n",
        "            print(\"Está incorreto, digite um caracter especial.\")\n",
        "            if digito[3:8].isalpha():\n",
        "                print(\"Está correto\")\n",
        "            else:\n",
        "                print(\"Está incorreto, digite cinco letras.\")\n",
        "\n",
        "def main():\n",
        "    senha = input(\"Insira uma senha: \")\n",
        "    senha_correta(senha)\n",
        "\n",
        "main()"
      ],
      "metadata": {
        "id": "jZpGxvdRj1CE",
        "colab": {
          "base_uri": "https://localhost:8080/"
        },
        "outputId": "509416cd-e6cf-4dff-a7d5-43b2de422f53"
      },
      "execution_count": null,
      "outputs": [
        {
          "output_type": "stream",
          "name": "stdout",
          "text": [
            "Insira uma senha: 12#Jessic\n",
            "Está correto\n"
          ]
        }
      ]
    }
  ]
}