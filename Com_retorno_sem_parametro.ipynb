{
  "nbformat": 4,
  "nbformat_minor": 0,
  "metadata": {
    "colab": {
      "provenance": [],
      "include_colab_link": true
    },
    "kernelspec": {
      "name": "python3",
      "display_name": "Python 3"
    }
  },
  "cells": [
    {
      "cell_type": "markdown",
      "metadata": {
        "id": "view-in-github",
        "colab_type": "text"
      },
      "source": [
        "<a href=\"https://colab.research.google.com/github/JessicaPelosi/Funcoes-Phyton/blob/main/Com_retorno_sem_parametro.ipynb\" target=\"_parent\"><img src=\"https://colab.research.google.com/assets/colab-badge.svg\" alt=\"Open In Colab\"/></a>"
      ]
    },
    {
      "cell_type": "markdown",
      "metadata": {
        "id": "skN-Wz61xZzi"
      },
      "source": [
        "### 1. (Função com retorno sem parâmetro) Faça um programa contendo uma função/método que leia um número e o multiplique por 2 retornando o resultado e o apresente."
      ]
    },
    {
      "cell_type": "code",
      "metadata": {
        "id": "Wbjafj_QxWP-",
        "colab": {
          "base_uri": "https://localhost:8080/"
        },
        "outputId": "97367410-4ba4-4f89-8ce4-3040d1158d8c"
      },
      "source": [
        "def multiplicar():\n",
        "    numero = int(input('Digite um número: '))\n",
        "    r = numero * 2\n",
        "    return r\n",
        "    print('Bom dia')\n",
        "\n",
        "def main():\n",
        "    #1ª forma de chamar uma função com retorno....OU...\n",
        "    resultado = multiplicar()\n",
        "    print('O resultado é',resultado)\n",
        "\n",
        "    #2ª forma de chamar uma função com retorno.........\n",
        "    print('O resultado é',multiplicar())\n",
        "    \n",
        "main() "
      ],
      "execution_count": null,
      "outputs": [
        {
          "output_type": "stream",
          "name": "stdout",
          "text": [
            "Digite um número: 10\n",
            "O resultado é 20\n",
            "Digite um número: 8\n",
            "O resultado é 16\n"
          ]
        }
      ]
    },
    {
      "cell_type": "markdown",
      "metadata": {
        "id": "0jPoba3-yLnG"
      },
      "source": [
        "### 2. (Função com retorno sem parâmetro) Faça um programa contendo uma função/método para subtrair dois números, retornar o resultado e o apresentando."
      ]
    },
    {
      "cell_type": "code",
      "metadata": {
        "id": "UHD2oMlJyLzc",
        "colab": {
          "base_uri": "https://localhost:8080/"
        },
        "outputId": "99fc1931-16e0-4e78-e53b-fa89f5a20b57"
      },
      "source": [
        "def subtrair():\n",
        "    a = int(input(\"Digite um valor: \"))\n",
        "    b = int(input(\"Digite outro valor: \"))\n",
        "    r = a - b\n",
        "    return r\n",
        "\n",
        "def main():\n",
        "    # Chamar a função subtrair - 1ª forma\n",
        "    print(\"A subtração é\",subtrair())\n",
        "\n",
        "    # Chamar a função subtrair - 2ª forma\n",
        "    w = subtrair()\n",
        "    print(\"A subtração é...\",w)\n",
        "    #if w > 50:\n",
        "        #.... qualquer lógica que use o valor w\n",
        "\n",
        "main()"
      ],
      "execution_count": null,
      "outputs": [
        {
          "output_type": "stream",
          "name": "stdout",
          "text": [
            "Digite um valor: 10\n",
            "Digite outro valor: 3\n",
            "A subtração é 7\n",
            "Digite um valor: 87\n",
            "Digite outro valor: 14\n",
            "A subtração é... 73\n"
          ]
        }
      ]
    },
    {
      "cell_type": "markdown",
      "metadata": {
        "id": "4zGuLRRXt0D_"
      },
      "source": [
        "### 3. (Função com retorno sem parâmetro) Faça um programa contendo uma função/método que leia a base e a altura de um triângulo e retorne/apresente sua área A = (base x altura)/2."
      ]
    },
    {
      "cell_type": "code",
      "metadata": {
        "id": "nU0x1v2Vt1-w",
        "colab": {
          "base_uri": "https://localhost:8080/"
        },
        "outputId": "5099957c-2cae-41d1-88d3-16725b004e0e"
      },
      "source": [
        "def triangulo():\n",
        "    base = float(input(\"Insira a base do triângulo: \"))\n",
        "    altura = float(input(\"Insira a altura do triângulo: \"))\n",
        "    A = (base * altura) / 2\n",
        "    return A\n",
        "\n",
        "def main():\n",
        "    print(\"A área do triângulo é\",triangulo())\n",
        "\n",
        "main()"
      ],
      "execution_count": null,
      "outputs": [
        {
          "output_type": "stream",
          "name": "stdout",
          "text": [
            "Insira a base do triângulo: 10\n",
            "Insira a altura do triângulo: 20\n",
            "A área do triângulo é 100.0\n"
          ]
        }
      ]
    },
    {
      "cell_type": "markdown",
      "metadata": {
        "id": "W0slzp_rt2Iu"
      },
      "source": [
        "### 4. (Função com retorno sem parâmetro) Faça um programa contendo uma função/método que leia o lado de um quadrado e retorne sua área, area = lado²."
      ]
    },
    {
      "cell_type": "code",
      "metadata": {
        "id": "hH2UZstHvFs2",
        "colab": {
          "base_uri": "https://localhost:8080/"
        },
        "outputId": "d1797e25-31d1-4b9b-a849-137f007f4736"
      },
      "source": [
        "def quadrado():\n",
        "    lado = float(input(\"Insira um dos lados do quadrado: \"))\n",
        "    area = lado ** 2\n",
        "    return area\n",
        "\n",
        "def main():\n",
        "    print(\"A área do quadrado é\",quadrado())\n",
        "\n",
        "main()"
      ],
      "execution_count": null,
      "outputs": [
        {
          "output_type": "stream",
          "name": "stdout",
          "text": [
            "Insira um dos lados do quadrado: 12\n",
            "A área do quadrado é 144.0\n"
          ]
        }
      ]
    },
    {
      "cell_type": "markdown",
      "metadata": {
        "id": "hfkLntgNTWN1"
      },
      "source": [
        "###5. (Função com retorno sem parâmetro) Faça um programa contendo uma função/método  que verifique se um número é par, retorne mostrando a str/string ‘É par’ ou se ‘É ímpar’."
      ]
    },
    {
      "cell_type": "code",
      "metadata": {
        "id": "YIp7ES5deRo8",
        "colab": {
          "base_uri": "https://localhost:8080/"
        },
        "outputId": "93c63480-22a7-4afc-879a-a62fbc8dcbae"
      },
      "source": [
        "def numero():\n",
        "    num = int(input(\"Insira um número inteiro: \"))\n",
        "    if num % 2 == 0:\n",
        "        #print('par')\n",
        "        r = \"É par\"\n",
        "    else:\n",
        "        r = \"É ímpar\"\n",
        "    return r\n",
        "\n",
        "def main():\n",
        "    print(numero())\n",
        "\n",
        "main()"
      ],
      "execution_count": null,
      "outputs": [
        {
          "output_type": "stream",
          "name": "stdout",
          "text": [
            "Insira um número inteiro: 3\n",
            "É ímpar\n"
          ]
        }
      ]
    },
    {
      "cell_type": "markdown",
      "metadata": {
        "id": "RIGUAKHveTJS"
      },
      "source": [
        "###6. (Função com retorno sem parâmetro) Faça um programa contendo uma função/método  que verifique se um número é par, retorne/mostre o valor bool **True** para par e **False** para ímpar."
      ]
    },
    {
      "cell_type": "code",
      "metadata": {
        "id": "Q6LPIy_LCQuO",
        "colab": {
          "base_uri": "https://localhost:8080/"
        },
        "outputId": "4cc71695-34c4-4a69-c27d-3de1565fd4c6"
      },
      "source": [
        "def numero():\n",
        "    num = int(input(\"Insira um número inteiro: \"))\n",
        "    if num % 2 == 0:\n",
        "        #print('par')\n",
        "        r = True\n",
        "    else:\n",
        "        r = False\n",
        "    return r\n",
        "\n",
        "def main():\n",
        "    print(numero())\n",
        "\n",
        "main()"
      ],
      "execution_count": null,
      "outputs": [
        {
          "output_type": "stream",
          "name": "stdout",
          "text": [
            "Insira um número inteiro: 5\n",
            "False\n"
          ]
        }
      ]
    },
    {
      "cell_type": "markdown",
      "metadata": {
        "id": "JgYwP3n1CQ_U"
      },
      "source": [
        "### 7. (Função com retorno sem parâmetro) Faça uma função/método que leia e armazene 5 elementos inteiros no vetor A, deverá ser gerado um vetor B, de mesmo tamanho, que armazenará o fatorial de cada elemento de A. Não use função pronta de cálculo de fatorial. Retorne/apresente o vetor B."
      ]
    },
    {
      "cell_type": "code",
      "metadata": {
        "id": "34fIP0epT69d",
        "colab": {
          "base_uri": "https://localhost:8080/"
        },
        "outputId": "4da53a7c-8a7b-4ca8-9287-8e2bdb1e9fbc"
      },
      "source": [
        "# Exemplo:\n",
        "# A = [5  ,4 ,3,2,1]\n",
        "# B = [120,24,6,2,1]\n",
        "def elementos():\n",
        "    A = []\n",
        "    B = []\n",
        "    for i in range(5):\n",
        "        A.append(int(input(\"Insira um número inteiro: \")))\n",
        "        fatorial = 1\n",
        "        for h in range(1,A[i]+1):\n",
        "            fatorial = fatorial * h\n",
        "        B.append(fatorial)\n",
        "    return B\n",
        "\n",
        "def main():\n",
        "    print(elementos())\n",
        "\n",
        "main()"
      ],
      "execution_count": null,
      "outputs": [
        {
          "output_type": "stream",
          "name": "stdout",
          "text": [
            "Insira um número inteiro: 5\n",
            "Insira um número inteiro: 4\n",
            "Insira um número inteiro: 3\n",
            "Insira um número inteiro: 2\n",
            "Insira um número inteiro: 1\n",
            "[120, 24, 6, 2, 1]\n"
          ]
        }
      ]
    },
    {
      "cell_type": "markdown",
      "metadata": {
        "id": "_aPd4c1b3OjS"
      },
      "source": [
        "### 8. (Função com retorno sem parâmetro) Faça uma função/método retorne um vetor com os três primeiros números perfeitos. Sabe-se que um número é perfeito quando é igual a soma de seus divisores (exceto ele mesmo). \n",
        "Exemplo: os divisores de 6 são 1, 2 e 3, e 1 + 2 + 3 = 6, logo 6 é perfeito. Não use função pronta.\n",
        "\n",
        "1º número perfeito: 6\n",
        "\n",
        "2º número perfeito: 28\n",
        "\n",
        "3º número perfeito: 496"
      ]
    },
    {
      "cell_type": "code",
      "metadata": {
        "id": "fb6TwQ_yh_To",
        "colab": {
          "base_uri": "https://localhost:8080/"
        },
        "outputId": "541ebce6-283b-4a7d-88ce-3015df36e08a"
      },
      "source": [
        "# número 1 não é perfeito\n",
        "# ...\n",
        "# número 4 não é perfeito, exemplo: 4 % 1 == 0, 4 % 2 == 0, 4 % 3 != 0, a soma \n",
        "# resulta em 2\n",
        "# ...\n",
        "# número 6 é perfeito  6 % 1 == 0, 6 % 2 == 0, 6 % 3 == 0, 6 % 4 != 0, 6 % 5 != 0\n",
        "# quando é perfeito a soma de seus divisores da o mesmo valor de número que é 6\n",
        "\n",
        "def numeros_perfeitos():\n",
        "    numeros = []\n",
        "    for n in range(1,497):\n",
        "        soma = 0\n",
        "        for num in range(1,n):\n",
        "            if n % num == 0:\n",
        "                soma = soma + num\n",
        "        if n == soma:\n",
        "            numeros.append(n)\n",
        "    return numeros\n",
        "\n",
        "def main():\n",
        "    print(numeros_perfeitos())\n",
        "\n",
        "main()"
      ],
      "execution_count": null,
      "outputs": [
        {
          "output_type": "stream",
          "name": "stdout",
          "text": [
            "[6, 28, 496]\n"
          ]
        }
      ]
    },
    {
      "cell_type": "markdown",
      "metadata": {
        "id": "HAz_eYfhzg06"
      },
      "source": [
        "### 9. (Função com retorno sem parâmetro) Foi realizada uma pesquisa sobre algumas características físicas de cinco habitantes de uma região. Foram coletados os seguintes dados de cada habitante: idade, sexo (M - masculino ou F - feminino), cor dos olhos (A - azuis ou C - castanhos), cor dos cabelos (L - louros, P - pretos ou C - castanhos).\n",
        "\n",
        "1.   Faça uma função/método que leia esses dados, armazenando-os em vetores (listas);\n",
        "2.   Faça uma função/método que determine e devolva a função principal a média de idades das pessoas com olhos castanhos e cabelos pretos;\n",
        "3. Faça uma função/método que determine e devolva a função principal a maior idade entre os habitantes;\n",
        "4.  Faça uma função/método que determine e devolva a função principal a quantidade de indivíduos do sexo feminino com idade entre 18 e 35 anos(inclusive) e que tenham olhos azuis e cabelos louros.\n"
      ]
    },
    {
      "cell_type": "code",
      "metadata": {
        "id": "7Ez7TgiQvbTD",
        "colab": {
          "base_uri": "https://localhost:8080/"
        },
        "outputId": "bdb40ab9-fb2b-4a9f-9baf-7f9393c0232c"
      },
      "source": [
        "# Declarar os vetores antes de qualquer programação, indica que \n",
        "# que estas variáveis serão globais a todo o restante do programa \n",
        "# e das funções \n",
        "idade = []\n",
        "sexo = []\n",
        "olho = []\n",
        "cabelo = []\n",
        "habitantes = 2\n",
        "\n",
        "def cadastrar():\n",
        "    for i in range(habitantes):\n",
        "        idade.append(int(input(\"Insira sua idade: \")))\n",
        "        sexo.append(input(\"Insira M-Masculino ou F-Feminino: \"))\n",
        "        olho.append(input(\"Insira a cor dos olhos, A-Azuis ou C-Castanho: \"))\n",
        "        cabelo.append(input(\"Insira a cor do cabelo, L-Louros ou P-Pretos ou C-Castanho: \"))\n",
        "\n",
        "def media_idade():\n",
        "    soma_olho_cabelo = 0\n",
        "    soma_idade = 0\n",
        "    for i in range(habitantes):\n",
        "        if olho[i].upper == \"C\" and cabelo[i].upper == \"P\":\n",
        "            soma_olho_cabelo = soma_olho_cabelo + 1\n",
        "            soma_idade = soma_idade + idade[i]\n",
        "    if soma_olho_cabelo == 0:\n",
        "        return 0\n",
        "    else:\n",
        "        return soma_idade / soma_olho_cabelo\n",
        "\n",
        "def maior_idade():\n",
        "    maior = 0\n",
        "    for i in range(habitantes):\n",
        "        if idade[i] > maior:\n",
        "            maior = idade[i]\n",
        "    return maior\n",
        "\n",
        "def qtd_individuos():\n",
        "    contar_individuos = 0\n",
        "    for i in range(habitantes):\n",
        "        if sexo[i].upper() == \"F\" and idade[i]>18 and idade[i]<=35 and olho[i].upper() == \"A\" and cabelo[i].upper() == \"L\":\n",
        "            contar_individuos = contar_individuos + 1\n",
        "    return contar_individuos\n",
        "\n",
        "def main():\n",
        "    cadastrar()\n",
        "    print(\"A média de idade das pessoas com olhos castanhos e cabelos pretos é\",media_idade())\n",
        "    print(\"A maior idade entre os habitantes é\",maior_idade())\n",
        "    print(\"A quantidade de indivíduos do sexo feminino com idade entre 18 e 35 anos e que tenham olhos azuis e cabelos louros é\",qtd_individuos())\n",
        "\n",
        "main()"
      ],
      "execution_count": null,
      "outputs": [
        {
          "output_type": "stream",
          "name": "stdout",
          "text": [
            "Insira sua idade: 19\n",
            "Insira M-Masculino ou F-Feminino: F\n",
            "Insira a cor dos olhos, A-Azuis ou C-Castanho: A\n",
            "Insira a cor do cabelo, L-Louros ou P-Pretos ou C-Castanho: L\n",
            "Insira sua idade: 19\n",
            "Insira M-Masculino ou F-Feminino: F\n",
            "Insira a cor dos olhos, A-Azuis ou C-Castanho: A\n",
            "Insira a cor do cabelo, L-Louros ou P-Pretos ou C-Castanho: L\n",
            "A média de idade das pessoas com olhos castanhos e cabelos pretos é 0\n",
            "A maior idade entre os habitantes é 19\n",
            "A quantidade de indivíduos do sexo feminino com idade entre 18 e 35 anos e que tenham olhos azuis e cabelos louros é 2\n"
          ]
        }
      ]
    }
  ]
}