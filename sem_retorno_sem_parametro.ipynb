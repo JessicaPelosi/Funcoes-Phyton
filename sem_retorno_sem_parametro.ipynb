{
  "nbformat": 4,
  "nbformat_minor": 0,
  "metadata": {
    "colab": {
      "provenance": [],
      "collapsed_sections": [],
      "include_colab_link": true
    },
    "kernelspec": {
      "name": "python3",
      "display_name": "Python 3"
    }
  },
  "cells": [
    {
      "cell_type": "markdown",
      "metadata": {
        "id": "view-in-github",
        "colab_type": "text"
      },
      "source": [
        "<a href=\"https://colab.research.google.com/github/JessicaPelosi/Funcoes-Phyton/blob/main/sem_retorno_sem_parametro.ipynb\" target=\"_parent\"><img src=\"https://colab.research.google.com/assets/colab-badge.svg\" alt=\"Open In Colab\"/></a>"
      ]
    },
    {
      "cell_type": "markdown",
      "metadata": {
        "id": "skN-Wz61xZzi"
      },
      "source": [
        "### 1. (Função sem retorno sem parâmetro) Faça um programa contendo uma função/método que apresente o valor 1 se o número digitado for positivo e 0 se for negativo."
      ]
    },
    {
      "cell_type": "code",
      "source": [
        "def num_positivo_negativo():\n",
        "    num = int(input(\"Insira um número inteiro: \"))\n",
        "    if num >= 0:\n",
        "        print(\"1\")\n",
        "    else:\n",
        "        print(\"0\")\n",
        "\n",
        "def main():\n",
        "    num_positivo_negativo()\n",
        "\n",
        "main()"
      ],
      "metadata": {
        "id": "xPwnHKnifEU5",
        "colab": {
          "base_uri": "https://localhost:8080/"
        },
        "outputId": "f025ac9d-e69e-46fc-d92d-07e6377fc766"
      },
      "execution_count": null,
      "outputs": [
        {
          "output_type": "stream",
          "name": "stdout",
          "text": [
            "Insira um número inteiro: -5\n",
            "0\n"
          ]
        }
      ]
    },
    {
      "cell_type": "markdown",
      "metadata": {
        "id": "0jPoba3-yLnG"
      },
      "source": [
        "### 2. (Função sem retorno sem parâmetro) Faça uma função/método que leia dois valores positivos e apresente a soma dos N números existentes entre eles (inclusive). \n",
        "    Exemplo: \n",
        "        a = 2\n",
        "        b = 8\n",
        "        2 + 3 + 4 + 5 + 6 + 7 + 8\n",
        "        soma = 35"
      ]
    },
    {
      "cell_type": "code",
      "source": [
        "def somar_valores():\n",
        "    a = int(input(\"Digite um valor: \"))\n",
        "    b = int(input(\"Digite outro valor: \"))\n",
        "    soma = 0\n",
        "    for a in range(a,b+1):\n",
        "        soma = soma + a\n",
        "    print(\"Resultado = \",soma)\n",
        "\n",
        "def main():\n",
        "    print(\"Chamando a função somar_valores...\\n\")\n",
        "    somar_valores()\n",
        "\n",
        "main()"
      ],
      "metadata": {
        "colab": {
          "base_uri": "https://localhost:8080/"
        },
        "id": "3mYouzWcYz82",
        "outputId": "ff5ffd02-42d8-4cad-c1bc-e8bff7bd4066"
      },
      "execution_count": null,
      "outputs": [
        {
          "output_type": "stream",
          "name": "stdout",
          "text": [
            "Chamando a função somar_valores...\n",
            "\n",
            "Digite um valor: 19\n",
            "Digite outro valor: 63\n",
            "Resultado =  1845\n"
          ]
        }
      ]
    },
    {
      "cell_type": "code",
      "metadata": {
        "id": "UHD2oMlJyLzc"
      },
      "source": [
        "# Definir / Declara a função\n",
        "def apresentar_mensagem():\n",
        "    nome = input(\"Digite seu nome: \")\n",
        "    print(\"Olá\",nome,\", tudo bem?\")\n",
        "    x = 10 * 34\n",
        "    print(\"Resultado = \",x)\n",
        "\n",
        "def main(): # Ponto principal de execução\n",
        "    # Chamada da função apresentar_mensagem()\n",
        "    print(\"Estou dentro da main.\")\n",
        "    print(\"Chamarei a função apresentar...\")\n",
        "    apresentar_mensagem()\n",
        "    print(\"Retornei para a main.\")\n",
        "    print(\"Témino de execução.\")\n",
        "    #funcao2()\n",
        "    #funcao3()\n",
        "\n",
        "# Chamada da função main()\n",
        "main()"
      ],
      "execution_count": null,
      "outputs": []
    },
    {
      "cell_type": "markdown",
      "metadata": {
        "id": "HAz_eYfhzg06"
      },
      "source": [
        "### 3. (Função sem retorno sem parâmetro) Faça uma função/método que receba três números inteiros *a*, *b*, *c* que sejam divisíveis por ***a***. Os valores *b* e *c* representam o intervalo da estrutura de repetição. Apresente a quantidade e os números divisíveis. Não pode usar vetor e função pronta da linguagem Python.\n",
        "    Exemplo:\n",
        "        a = 5\n",
        "        b = 1\n",
        "        c = 10\n",
        "        1 % a\n",
        "        2 % a\n",
        "        3 % a\n",
        "        4 % a\n",
        "        5 % a este valor é divisível\n",
        "        6 % a\n",
        "        7\n",
        "        8\n",
        "        9\n",
        "        10 % a este valor é divisível\n",
        "        qtde = 2\n",
        "        Números divisíveis 5, 10"
      ]
    },
    {
      "cell_type": "code",
      "metadata": {
        "id": "Cg-NIjInzfmU",
        "colab": {
          "base_uri": "https://localhost:8080/"
        },
        "outputId": "671d8fcb-fc90-42af-c60d-821290b7f870"
      },
      "source": [
        "def divisao():\n",
        "    a = int(input(\"Insira um número: \"))\n",
        "    b = int(input(\"Insira outro número: \"))\n",
        "    c = int(input(\"Insira mais um número: \"))\n",
        "    cont = 0\n",
        "    for b in range(b,c+1):\n",
        "        if b % a == 0:\n",
        "            print(\"O número\",b,\"é divisível.\")\n",
        "            cont = cont + 1\n",
        "    print(\"A quantidade de números divisíveis é:\",cont )\n",
        "\n",
        "def main():\n",
        "    divisao()\n",
        "\n",
        "main()"
      ],
      "execution_count": null,
      "outputs": [
        {
          "output_type": "stream",
          "name": "stdout",
          "text": [
            "Insira um número: 5\n",
            "Insira outro número: 1\n",
            "Insira mais um número: 10\n",
            "O número 5 é divisível.\n",
            "O número 10 é divisível.\n",
            "A quantidade de números divisíveis é: 2\n"
          ]
        }
      ]
    },
    {
      "cell_type": "markdown",
      "metadata": {
        "id": "_aPd4c1b3OjS"
      },
      "source": [
        "### 4. (Função sem retorno sem parâmetro) Faça uma função/método que leia um único valor representado em segundos, converta-o e apresente o resultado em horas, minutos e segundos.\n",
        "    h = segundos / 3600\n",
        "    r = resto(segundos / 3600)\n",
        "    m = r / 60\n",
        "    s = resto(r / 60)\n",
        "    Observação 1: resto de uma divisão em Python %.\n",
        "    Observação 2: a hora, o minuto e o segundo devem ser apresentados como números inteiros. "
      ]
    },
    {
      "cell_type": "code",
      "metadata": {
        "id": "Q6LPIy_LCQuO",
        "colab": {
          "base_uri": "https://localhost:8080/"
        },
        "outputId": "68e41914-3bdc-4b3f-d7ed-d9ab47f4ca73"
      },
      "source": [
        "def valor():\n",
        "    segundos = int(input(\"Insira um número: \"))\n",
        "    if segundos > 0:\n",
        "        h = segundos / 3600\n",
        "        r = segundos % 3600\n",
        "        m = r / 60\n",
        "        s = r % 60\n",
        "    print(\"As horas são %02.0f, os minutos são %02.0f, os segundos são %02.0f.\" %(h,m,s))\n",
        "\n",
        "def main():\n",
        "    valor()\n",
        "\n",
        "main()"
      ],
      "execution_count": null,
      "outputs": [
        {
          "output_type": "stream",
          "name": "stdout",
          "text": [
            "Insira um número: 4000\n",
            "As horas são 01, os minutos são 07, os segundos são 40.\n"
          ]
        }
      ]
    },
    {
      "cell_type": "markdown",
      "metadata": {
        "id": "JgYwP3n1CQ_U"
      },
      "source": [
        "### 5. (Função sem retorno sem parâmetro) Faça uma função/método que receba o preço antigo e atual de um produto, determine o percentual de acréscimo entre esses valores e apresente-o.\n",
        "    r = (100 * preco_novo - 100 * preco_antigo) / preco_antigo"
      ]
    },
    {
      "cell_type": "code",
      "metadata": {
        "id": "fb6TwQ_yh_To",
        "colab": {
          "base_uri": "https://localhost:8080/"
        },
        "outputId": "c38190b9-d086-46f1-fd9b-6d3682f136ff"
      },
      "source": [
        "def preco():\n",
        "    antigo = float(input(\"Insira o preço antigo: \"))\n",
        "    atual = float(input(\"Insira o preço atual: \"))\n",
        "    r = (100 * atual - 100 * antigo) / antigo\n",
        "    print(f\"O percentual de acrescimo é {r:.2f}\")\n",
        "\n",
        "def main():\n",
        "    preco()\n",
        "\n",
        "main()"
      ],
      "execution_count": null,
      "outputs": [
        {
          "output_type": "stream",
          "name": "stdout",
          "text": [
            "Insira o preço antigo: 100\n",
            "Insira o preço atual: 110\n",
            "O percentual de acrescimo é 10.00\n"
          ]
        }
      ]
    },
    {
      "cell_type": "markdown",
      "metadata": {
        "id": "fZNXRUrrh_g9"
      },
      "source": [
        "### 6. (Função sem retorno sem parâmetro) Faça uma função/método que leia um valor inteiro entre 1 e 9 e mostre a seguinte tabela de **multiplicação**\n",
        "Neste exemplo foi escolhido o número 9.\n",
        "\n",
        "    1    \n",
        "    2     4\n",
        "    3     6     9\n",
        "    4     8    12    16\n",
        "    5    10    15    20    25\n",
        "    6    12    18    24    30    36\n",
        "    7    14    21    28    35    42    49\n",
        "    8    16    24    32    40    48    56    64   \n",
        "    9    18    27    36    45    54    63    72    81\n",
        "    for i = 1 até n\n",
        "       for j = 1 até i\n",
        "       \n",
        "    Observação: configure o print para não pular linha, use o parâmetro end."
      ]
    },
    {
      "cell_type": "code",
      "metadata": {
        "id": "qA3MK3i1lJ-B",
        "colab": {
          "base_uri": "https://localhost:8080/"
        },
        "outputId": "782f4d83-253f-4e71-86f3-6f71d916645a"
      },
      "source": [
        "def inteiro():\n",
        "    n = int(input(\"Insira um número inteiro: \"))\n",
        "    for i in range(1,n+1):\n",
        "        for j in range(1,i+1):\n",
        "            r = i * j\n",
        "            print(r, end = '\\t')\n",
        "        print()\n",
        "\n",
        "def main():\n",
        "    inteiro()\n",
        "\n",
        "main()\n",
        "\n",
        "# Para ter a mesma forma de apresentação use assim o print(r, end = '\\t')"
      ],
      "execution_count": null,
      "outputs": [
        {
          "output_type": "stream",
          "name": "stdout",
          "text": [
            "Insira um número inteiro: 9\n",
            "1\t\n",
            "2\t4\t\n",
            "3\t6\t9\t\n",
            "4\t8\t12\t16\t\n",
            "5\t10\t15\t20\t25\t\n",
            "6\t12\t18\t24\t30\t36\t\n",
            "7\t14\t21\t28\t35\t42\t49\t\n",
            "8\t16\t24\t32\t40\t48\t56\t64\t\n",
            "9\t18\t27\t36\t45\t54\t63\t72\t81\t\n"
          ]
        }
      ]
    },
    {
      "cell_type": "markdown",
      "metadata": {
        "id": "qC3ghcOalLBi"
      },
      "source": [
        "### 7. (Função sem retorno sem parâmetro) Faça uma função/método que leia três notas de um aluno e uma letra, se a letra for igual a *A*, deverá calcular a média aritimética das notas dos alunos, se for *P*, deverá calcular a média ponderada, com pesos 5, 3 e 2. A média deve ser mostrada ao final.\n",
        "N1, N2 e N3 são notas.\n",
        "\n",
        "P1, P2 e P3 são pesos.\n",
        "\n",
        "Média ponderada = (N1 * P1 + N2 * P2 + N3 * P3 ) / (P1 + P2 + P3)"
      ]
    },
    {
      "cell_type": "code",
      "metadata": {
        "id": "73QPAAO0q2Wo",
        "colab": {
          "base_uri": "https://localhost:8080/"
        },
        "outputId": "41669c7b-88ea-4c8c-a210-a757d1741fd3"
      },
      "source": [
        "def notas():\n",
        "    n1 = float(input(\"Insira a primeira nota: \"))\n",
        "    n2 = float(input(\"Insira a segunda nota: \"))\n",
        "    n3 = float(input(\"Insira a terceira nota: \"))\n",
        "    p1 = 5\n",
        "    p2 = 3\n",
        "    p3 = 2\n",
        "    letra = input(\"Insira A para média aritimética ou P para média ponderada: \")\n",
        "\n",
        "    if letra == \"A\" or letra == \"a\":\n",
        "        media_a = (n1 + n2 + n3) / 3\n",
        "        print(\"A média aritimética desse aluno é\",media_a)\n",
        "\n",
        "    elif letra == \"P\" or letra == \"p\":\n",
        "        media_p = (n1 * p1 + n2 * p2 + n3 * p3) / (p1 + p2 + p3)\n",
        "        print(\"A média poderada do aluno é\",media_p)\n",
        "\n",
        "def main():\n",
        "    notas()\n",
        "\n",
        "main()"
      ],
      "execution_count": null,
      "outputs": [
        {
          "output_type": "stream",
          "name": "stdout",
          "text": [
            "Insira a primeira nota: 10\n",
            "Insira a segunda nota: 10\n",
            "Insira a terceira nota: 10\n",
            "Insira A para média aritimética ou P para média ponderada: p\n",
            "A média poderada do aluno é 10.0\n"
          ]
        }
      ]
    },
    {
      "cell_type": "markdown",
      "metadata": {
        "id": "Go_7xqNQq2oY"
      },
      "source": [
        "### 8. (Função sem retorno sem parâmetro) Faça uma função/método que leia uma hora de início e de término de um jogo, ambas divididas em dois valores distintos: hora e minuto. Deverá ser apresentado a duração expressa em minutos, considerando que o tempo máximo de duração de um jogo é de 24 horas e que ele pode começar em um dia e terminar no outro.\n",
        "    se m_f < m_i\n",
        "        m_f = m_f + 60\n",
        "        h_f = h_f - 1\n",
        "    se h_f < h_i\n",
        "        h_f = h_f + 24\n",
        "    tot_m = m_f - m_i\n",
        "    tot_h = h_f - h_i\n",
        "    total = tot_h * 60 + tot_m "
      ]
    },
    {
      "cell_type": "code",
      "metadata": {
        "id": "BgfVTL9-0WQi",
        "colab": {
          "base_uri": "https://localhost:8080/"
        },
        "outputId": "0ea406ee-9a5b-4103-97f4-6b5544e4ef99"
      },
      "source": [
        "def hora():\n",
        "    h_i = int(input(\"Insira a(s) hora(s) inicial(is) do jogo: \"))\n",
        "    m_i = int(input(\"Insira o(s) minuto(s) inicial(is) do jogo: \"))\n",
        "    h_f = int(input(\"Insira a(s) hora(s) final(is) do jogo: \"))\n",
        "    m_f = int(input(\"Insira o(s) minuto(s) final(is) do jogo: \"))\n",
        "    if m_f < m_i:\n",
        "        m_f = m_f + 60\n",
        "        h_f = h_f - 1\n",
        "    if h_f < h_i:\n",
        "        h_f = h_f + 24\n",
        "    tot_m = m_f - m_i\n",
        "    tot_h = h_f - h_i\n",
        "    total = tot_h * 60 + tot_m\n",
        "    print(\"O jogo durou\",total,\"minutos.\")\n",
        "\n",
        "def main():\n",
        "    hora()\n",
        "\n",
        "main()"
      ],
      "execution_count": null,
      "outputs": [
        {
          "output_type": "stream",
          "name": "stdout",
          "text": [
            "Insira a(s) hora(s) inicial(is) do jogo: 19\n",
            "Insira o(s) minuto(s) inicial(is) do jogo: 44\n",
            "Insira a(s) hora(s) final(is) do jogo: 20\n",
            "Insira o(s) minuto(s) final(is) do jogo: 44\n",
            "O jogo durou 60 minutos.\n"
          ]
        }
      ]
    },
    {
      "cell_type": "markdown",
      "metadata": {
        "id": "IGOQmdAe0myM"
      },
      "source": [
        "### 9. (Função sem retorno sem parâmetro) Faça uma função/método que leia cinco valores inteiros, determine e mostre o maior e o menor deles. Não pode usar vetor e função pronta da linguagem Python."
      ]
    },
    {
      "cell_type": "code",
      "metadata": {
        "id": "A4-CekXy0vrz",
        "colab": {
          "base_uri": "https://localhost:8080/"
        },
        "outputId": "63975f00-50e6-45a0-f45e-376f4bb5d428"
      },
      "source": [
        "def valor():\n",
        "    maior = 0\n",
        "    menor = 0\n",
        "    for i in range(5):\n",
        "        inteiro = int(input(\"Insira um valor inteiro: \"))\n",
        "        if i == 0:\n",
        "            maior = inteiro\n",
        "            menor = inteiro\n",
        "        if inteiro >= maior:\n",
        "            maior = inteiro\n",
        "        if inteiro <= menor:\n",
        "            menor = inteiro\n",
        "    print(\"O maior valor digitado é\",maior,\"e o menor valor é\",menor,\".\")\n",
        "\n",
        "def main():\n",
        "    valor()\n",
        "\n",
        "main()\n"
      ],
      "execution_count": null,
      "outputs": [
        {
          "output_type": "stream",
          "name": "stdout",
          "text": [
            "Insira um valor inteiro: 5\n",
            "Insira um valor inteiro: 9\n",
            "Insira um valor inteiro: 10\n",
            "Insira um valor inteiro: 6\n",
            "Insira um valor inteiro: 7\n",
            "O maior valor digitado é 10 e o menor valor é 5 .\n"
          ]
        }
      ]
    },
    {
      "cell_type": "markdown",
      "metadata": {
        "id": "W2PqWZm20v6M"
      },
      "source": [
        "### 10. (Função sem retorno sem parâmetro) Faça uma função/método que leia um valor inteiro e positivo N e mostre o valor de S, obtido pelo seguinte cálculo: \n",
        "###S = 1  +  1/1!  +  1/2!  +  1/3!  + ... +  1/N!\n",
        "\n",
        "Observvação: Não pode usar vetor e função pronta da linguagem Python."
      ]
    },
    {
      "cell_type": "code",
      "metadata": {
        "id": "U9eTKxuz1c7S",
        "colab": {
          "base_uri": "https://localhost:8080/"
        },
        "outputId": "d71a64dc-d260-40d3-f1dd-bcd281f333ea"
      },
      "source": [
        "# Digite seu código aqui.\n",
        "# S = 1\n",
        "# S = 1 + 1 + 1/2! + 1/3 + 1/4!\n",
        "# S = 1 + 1 + 0.5 + 0.16 + 0.041\n",
        "# S = 2.66 + 0.041\n",
        "# 3! = 3 * 2 * 1 = 6\n",
        "# 4! = 1 * 2 * 3 * 4 = 24    1/4!   1/24  = 0.041\n",
        "\n",
        "# N = int(input('Informe o valor de N termos: '))\n",
        "\n",
        "def num():\n",
        "    N = int(input(\"Insira o valor de N termos: \"))\n",
        "    fatorial = 1\n",
        "    S = 1\n",
        "    for i in range(1,N+1):\n",
        "        fatorial = fatorial * i\n",
        "        S = S + 1 / fatorial\n",
        "    print(\"O valor do fatorial de N termos é\",fatorial,\"e o valor de S é\",S)\n",
        "\n",
        "def main():\n",
        "    num()\n",
        "\n",
        "main()"
      ],
      "execution_count": null,
      "outputs": [
        {
          "output_type": "stream",
          "name": "stdout",
          "text": [
            "Insira o valor de N termos: 4\n",
            "O valor do fatorial de N termos é 24 e o valor de S é 2.708333333333333\n"
          ]
        }
      ]
    }
  ]
}